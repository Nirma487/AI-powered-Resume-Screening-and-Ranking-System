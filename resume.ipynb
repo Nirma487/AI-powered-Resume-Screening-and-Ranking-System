{
 "cells": [
  {
   "cell_type": "code",
   "execution_count": 1,
   "id": "ed349f78-21b9-44ce-9c54-aa3765e75f8f",
   "metadata": {},
   "outputs": [],
   "source": [
    "import streamlit as st\n",
    "from PyPDF2 import PdfReader\n",
    "import pandas as pd\n",
    "from sklearn.feature_extraction.text import TfidfVectorizer\n",
    "from sklearn.metrics.pairwise import cosine_similarity"
   ]
  },
  {
   "cell_type": "code",
   "execution_count": 2,
   "id": "3fd3141b-f75f-49ed-be02-12c3c5fd7a83",
   "metadata": {},
   "outputs": [],
   "source": [
    "def extract_text_from_pdf(file):\n",
    "    pdf = PdfReader(file)\n",
    "    text = \"\"\n",
    "    for page in pdf.pages:\n",
    "        text += page.extract_text()\n",
    "    return text"
   ]
  },
  {
   "cell_type": "code",
   "execution_count": 3,
   "id": "9277e237-32fc-460f-8a1c-bdaa73f841e8",
   "metadata": {},
   "outputs": [],
   "source": [
    "def rank_resumes(job_description, resumes):\n",
    "    \n",
    "    documents [job_description] + resumes\n",
    "    vectorizer = TfidfVectorizer().fit_transform(documents)\n",
    "    vectors = vectorizer.toarray()\n",
    "\n",
    "    job_description_vector = vectors[0]\n",
    "    resume_vectors = vectors [1:]\n",
    "    cosine_similarities = cosine_similarity ([job_description_vector], resume_vectors).flatten()\n",
    "    \n",
    "    return cosine_similarities"
   ]
  },
  {
   "cell_type": "code",
   "execution_count": 4,
   "id": "5b99e40c-d285-4af3-8f0a-6b3eb4a7e24d",
   "metadata": {},
   "outputs": [
    {
     "name": "stderr",
     "output_type": "stream",
     "text": [
      "2025-06-11 21:24:49.166 WARNING streamlit.runtime.scriptrunner_utils.script_run_context: Thread 'MainThread': missing ScriptRunContext! This warning can be ignored when running in bare mode.\n",
      "2025-06-11 21:24:49.514 \n",
      "  \u001b[33m\u001b[1mWarning:\u001b[0m to view this Streamlit app on a browser, run it with the following\n",
      "  command:\n",
      "\n",
      "    streamlit run C:\\Users\\Lenovo\\AppData\\Local\\Programs\\Python\\Python312\\Lib\\site-packages\\ipykernel_launcher.py [ARGUMENTS]\n",
      "2025-06-11 21:24:49.515 Thread 'MainThread': missing ScriptRunContext! This warning can be ignored when running in bare mode.\n",
      "2025-06-11 21:24:49.515 Thread 'MainThread': missing ScriptRunContext! This warning can be ignored when running in bare mode.\n",
      "2025-06-11 21:24:49.516 Thread 'MainThread': missing ScriptRunContext! This warning can be ignored when running in bare mode.\n",
      "2025-06-11 21:24:49.517 Thread 'MainThread': missing ScriptRunContext! This warning can be ignored when running in bare mode.\n",
      "2025-06-11 21:24:49.517 Thread 'MainThread': missing ScriptRunContext! This warning can be ignored when running in bare mode.\n",
      "2025-06-11 21:24:49.518 Thread 'MainThread': missing ScriptRunContext! This warning can be ignored when running in bare mode.\n",
      "2025-06-11 21:24:49.518 Thread 'MainThread': missing ScriptRunContext! This warning can be ignored when running in bare mode.\n",
      "2025-06-11 21:24:49.519 Session state does not function when running a script without `streamlit run`\n",
      "2025-06-11 21:24:49.520 Thread 'MainThread': missing ScriptRunContext! This warning can be ignored when running in bare mode.\n",
      "2025-06-11 21:24:49.520 Thread 'MainThread': missing ScriptRunContext! This warning can be ignored when running in bare mode.\n"
     ]
    }
   ],
   "source": [
    "st.title(\"AI Resume Screening & Candidate Ranking System\")\n",
    "\n",
    "st.header(\"Job Description\")\n",
    "job_description= st.text_area (\"Enter the job description\")"
   ]
  },
  {
   "cell_type": "code",
   "execution_count": 5,
   "id": "affa6265-1642-4408-8030-c4c284e3cdce",
   "metadata": {},
   "outputs": [
    {
     "name": "stderr",
     "output_type": "stream",
     "text": [
      "2025-06-11 21:24:50.545 Thread 'MainThread': missing ScriptRunContext! This warning can be ignored when running in bare mode.\n",
      "2025-06-11 21:24:50.546 Thread 'MainThread': missing ScriptRunContext! This warning can be ignored when running in bare mode.\n",
      "2025-06-11 21:24:50.547 Thread 'MainThread': missing ScriptRunContext! This warning can be ignored when running in bare mode.\n",
      "2025-06-11 21:24:50.547 Thread 'MainThread': missing ScriptRunContext! This warning can be ignored when running in bare mode.\n",
      "2025-06-11 21:24:50.547 Thread 'MainThread': missing ScriptRunContext! This warning can be ignored when running in bare mode.\n",
      "2025-06-11 21:24:50.548 Thread 'MainThread': missing ScriptRunContext! This warning can be ignored when running in bare mode.\n",
      "2025-06-11 21:24:50.548 Thread 'MainThread': missing ScriptRunContext! This warning can be ignored when running in bare mode.\n"
     ]
    }
   ],
   "source": [
    "st.header(\"Upload Resumes\")\n",
    "uploaded_files = st.file_uploader(\"Upload PDF files\", type=[\"pdf\"], accept_multiple_files=True)"
   ]
  },
  {
   "cell_type": "code",
   "execution_count": 6,
   "id": "e20520cb-fdaf-485d-a271-c99df12089d2",
   "metadata": {},
   "outputs": [],
   "source": [
    "if uploaded_files and job_description:\n",
    "    st.header(\"Ranking Resumes\")\n",
    "    \n",
    "    resumes = []\n",
    "    for file in uploaded_files:\n",
    "        text = extract_text_from_pdf(file)\n",
    "        resumes.append(text)\n",
    "\n",
    "    scores = rank_resumes(job_description, resumes)\n",
    "\n",
    "    results = pd.DataFrame({\"Resume\": [file.name for file in uploaded_files], \"Score\": score })\n",
    "    results = results.sort_values(by=\"Score\", ascending=False)\n",
    "    \n",
    "    st.write(results)"
   ]
  },
  {
   "cell_type": "code",
   "execution_count": null,
   "id": "b62215a6-2a1b-4a57-8be5-67ef9bfacc7b",
   "metadata": {},
   "outputs": [],
   "source": []
  }
 ],
 "metadata": {
  "kernelspec": {
   "display_name": "Python 3 (ipykernel)",
   "language": "python",
   "name": "python3"
  },
  "language_info": {
   "codemirror_mode": {
    "name": "ipython",
    "version": 3
   },
   "file_extension": ".py",
   "mimetype": "text/x-python",
   "name": "python",
   "nbconvert_exporter": "python",
   "pygments_lexer": "ipython3",
   "version": "3.12.4"
  }
 },
 "nbformat": 4,
 "nbformat_minor": 5
}
